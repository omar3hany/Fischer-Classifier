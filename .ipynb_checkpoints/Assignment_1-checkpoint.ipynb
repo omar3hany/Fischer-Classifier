{
 "cells": [
  {
   "cell_type": "markdown",
   "metadata": {},
   "source": [
    "<h1><center>CSEN1022:Assignment 1</center></h1>\n",
    "<h3><center>Winter 2021</center></h3>\n",
    "<hr style=\"border:2px solid black\"> </hr>"
   ]
  },
  {
   "cell_type": "markdown",
   "metadata": {},
   "source": [
    "## <u> Please don't forget to fill in this data </u>\n",
    "**Member 1**\n",
    "\n",
    "Name: Abdallah Ragab \n",
    "\n",
    "GUC-ID: 43-14849\n",
    "\n",
    "Elective Tutorial No.: T-02\n",
    "\n",
    "**Member 2**\n",
    "\n",
    "Name: Omar Hany\n",
    "\n",
    "GUC-ID: 43-5802\n",
    "\n",
    "Elective Tutorial No.: T-04\n",
    "\n",
    "<hr style=\"border:2px solid black\"> </hr>"
   ]
  },
  {
   "cell_type": "markdown",
   "metadata": {},
   "source": [
    "## Imports (Don't Edit)"
   ]
  },
  {
   "cell_type": "code",
   "execution_count": 1,
   "metadata": {},
   "outputs": [],
   "source": [
    "# ONLY USE THESE IMPORTS.\n",
    "# PLEASE DON'T EDIT THIS CELL.\n",
    "import numpy as np\n",
    "import matplotlib.pyplot as plt\n",
    "%matplotlib inline"
   ]
  },
  {
   "cell_type": "markdown",
   "metadata": {},
   "source": [
    "## Read Data (Edit)"
   ]
  },
  {
   "cell_type": "code",
   "execution_count": 2,
   "metadata": {},
   "outputs": [],
   "source": [
    "# return (x_train, y_train), (x_test, y_test)\n",
    "\n",
    "def read_data():\n",
    "    x_train = []\n",
    "    y_train = []\n",
    "\n",
    "    x_train_airplane = np.array([plt.imread('Data/Train/airplane/'+str(i)+'.jpg') for i in range (0,5000)])\n",
    "    x_train_automobile = np.array([plt.imread('Data/Train/automobile/'+str(i)+'.jpg') for i in range (0,5000)])\n",
    "    x_train_frog = np.array([plt.imread('Data/Train/frog/'+str(i)+'.jpg') for i in range (0,5000)])\n",
    "    \n",
    "    \n",
    "    x_train = x_train_airplane\n",
    "    x_train = np.append(x_train,x_train_automobile,axis=0)\n",
    "    x_train = np.append(x_train,x_train_frog,axis = 0)\n",
    "    \n",
    "    for i in range(0,3):\n",
    "        for j in range(0,5000):\n",
    "            y_train.append(i)\n",
    "            \n",
    "    \n",
    "\n",
    "    x_test = []\n",
    "    y_test = []\n",
    "    x_test_airplane = np.array([plt.imread('Data/Test/airplane/'+str(i)+'.jpg') for i in range (0,1000)])\n",
    "    x_test_automobile = np.array([plt.imread('Data/Test/automobile/'+str(i)+'.jpg') for i in range (0,1000)])\n",
    "    x_test_frog = np.array([plt.imread('Data/Test/frog/'+str(i)+'.jpg') for i in range (0,1000)])\n",
    "    \n",
    "    \n",
    "    x_test = x_test_airplane\n",
    "    x_test = np.append(x_test,x_test_automobile,axis = 0)\n",
    "    x_test = np.append(x_test,x_test_frog,axis = 0)\n",
    "    \n",
    "    \n",
    "    for i in range(0,3):\n",
    "        for j in range(0,1000):\n",
    "            y_test.append(i)\n",
    "\n",
    "    x_train = np.array(x_train)\n",
    "    y_train = np.array(y_train)\n",
    "    x_test = np.array(x_test)\n",
    "    y_test = np.array(y_test)\n",
    "    #normalize rgb\n",
    "    x_train = x_train/255\n",
    "    x_test = x_test/255\n",
    "    return (x_train, y_train), (x_test, y_test)\n",
    "(x_train,y_train),(X_test,y_test)=read_data()\n",
    "\n",
    "\n",
    "##################################################\n",
    "\n",
    "x_train = np.reshape(x_train, (len(x_train),1024,3)) \n",
    "X_test = np.reshape(X_test, (len(X_test),1024,3)) \n",
    "\n",
    "x_train_rgb = np.reshape(x_train,(len(x_train),3072))\n",
    "x_test_rgb = np.reshape(X_test,(len(X_test),3072))\n",
    "\n",
    "\n",
    "R, G, B = x_train[0:][:,:,0], x_train[0:][:,:,1], x_train[0:][:,:,2]\n",
    "x_train_grayScale = 0.3 * R + 0.59 * G + 0.11 * B\n",
    "\n",
    "R, G, B = X_test[0:][:,:,0], X_test[0:][:,:,1], X_test[0:][:,:,2]\n",
    "x_test_grayScale = 0.3 * R + 0.59 * G + 0.11 * B\n",
    "\n"
   ]
  },
  {
   "cell_type": "markdown",
   "metadata": {},
   "source": [
    "# Helpers"
   ]
  },
  {
   "cell_type": "code",
   "execution_count": 3,
   "metadata": {},
   "outputs": [],
   "source": [
    "def compute_confusion_matrix(expected, pred):\n",
    "  K = len(np.unique(expected)) # Number of classes \n",
    "  result = np.zeros((K, K))\n",
    "\n",
    "  for i in range(len(expected)):\n",
    "    result[expected[i]][pred[i]] += 1\n",
    "\n",
    "  return result\n",
    "            "
   ]
  },
  {
   "cell_type": "code",
   "execution_count": 4,
   "metadata": {},
   "outputs": [],
   "source": [
    "def calc(w,w0,x):\n",
    "    return w.dot(x) + w0"
   ]
  },
  {
   "cell_type": "code",
   "execution_count": 5,
   "metadata": {},
   "outputs": [],
   "source": [
    "def fisher(x_train,y_train,label):\n",
    "    x_train_label= [x_train[i] for i in range(len(x_train)) if y_train[i]==label]\n",
    "    x_train_not_label= [x_train[i] for i in range(len(x_train)) if y_train[i]!=label]\n",
    "    \n",
    "    x_train_label=np.asarray(x_train_label)\n",
    "    x_train_not_label=np.asarray(x_train_not_label)\n",
    "\n",
    "    m_label = np.transpose([np.mean(x_train_label, axis=0)])\n",
    "    m_not_label = np.transpose([np.mean(x_train_not_label, axis=0)])\n",
    "               \n",
    "\n",
    "    sw_label_broadcasted=x_train_label - np.transpose(m_label)\n",
    "    sw_label= np.transpose(sw_label_broadcasted).dot(sw_label_broadcasted)\n",
    "    \n",
    "    sw_not_label_broadcasted=x_train_not_label - np.transpose(m_not_label)\n",
    "    sw_not_label= np.transpose(sw_not_label_broadcasted).dot(sw_not_label_broadcasted)\n",
    "    # the equation has the same idea of the (Xtelda)T * (Xtelda) in least squares, we grouped datapoints and applied the same operation on them\n",
    "    # to optimize the runtime\n",
    "    \n",
    "    sw=sw_label+sw_not_label\n",
    "    \n",
    "    sw_inv = np.linalg.pinv(sw)\n",
    "    \n",
    "    m_diff=m_label-m_not_label #m2-m1\n",
    "    \n",
    "    multiplier=10000 # the 10000 makes the values have a good range\n",
    "    w = multiplier*sw_inv.dot(m_diff)\n",
    "    m_avg=(m_label+m_not_label)/2\n",
    "    w0=-np.transpose(w).dot(m_avg)\n",
    "    w0=w0[0][0]\n",
    "    return w,w0"
   ]
  },
  {
   "cell_type": "code",
   "execution_count": 6,
   "metadata": {},
   "outputs": [],
   "source": [
    "def correctness(x_test):#rgb or grayscale\n",
    "    correct=0\n",
    "    predicted = []\n",
    "    for i in range(len(x_test)):\n",
    "        img1=x_test[i]\n",
    "        img1=np.transpose([img1])\n",
    "        y_airplane=calc(np.transpose(w_airplane),w0_airplane,img1)[0][0]\n",
    "        y_automobile=calc(np.transpose(w_automobile),w0_automobile,img1)[0][0]\n",
    "        y_frog=calc(np.transpose(w_frog),w0_frog,img1)[0][0]\n",
    "        label=0\n",
    "        if(y_automobile>y_airplane and y_automobile>y_frog):\n",
    "            label=1\n",
    "        elif (y_frog>y_airplane and y_frog>y_automobile):\n",
    "            label=2\n",
    "        predicted.append(label)\n",
    "        if label==y_test[i]:\n",
    "            correct+=1\n",
    "            \n",
    "                    \n",
    "    print(correct*100/len(x_test))\n",
    "    return predicted"
   ]
  },
  {
   "cell_type": "markdown",
   "metadata": {},
   "source": [
    "<hr style=\"border:2px solid black\"> </hr>\n",
    "\n",
    "## Construct Fischer's Linear Discriminant classifier for each of the 3 classes.\n",
    "#### Test each classifier on all images in X_Test. \n",
    "#### Construct Confusion Matrix."
   ]
  },
  {
   "cell_type": "code",
   "execution_count": 7,
   "metadata": {},
   "outputs": [],
   "source": [
    "# Write code here\n",
    "# Train\n",
    "# Test\n",
    "# confusion_matrix = "
   ]
  },
  {
   "cell_type": "code",
   "execution_count": 7,
   "metadata": {},
   "outputs": [
    {
     "name": "stdout",
     "output_type": "stream",
     "text": [
      "[[-6.79449815]\n",
      " [ 5.78502101]\n",
      " [ 1.63667148]\n",
      " ...\n",
      " [ 1.71044303]\n",
      " [-2.88098688]\n",
      " [ 0.34343042]]\n",
      "-3.124374951448548\n"
     ]
    }
   ],
   "source": [
    "w_airplane,w0_airplane=fisher(x_train_rgb,y_train,0)\n",
    "\n",
    "print(w_airplane)\n",
    "print(w0_airplane)"
   ]
  },
  {
   "cell_type": "code",
   "execution_count": 8,
   "metadata": {},
   "outputs": [
    {
     "name": "stdout",
     "output_type": "stream",
     "text": [
      "[[ 8.90187507]\n",
      " [-6.07141786]\n",
      " [-3.029459  ]\n",
      " ...\n",
      " [-0.61904042]\n",
      " [ 1.78434893]\n",
      " [-0.71908975]]\n",
      "-0.19338736859783978\n"
     ]
    }
   ],
   "source": [
    "w_automobile,w0_automobile=fisher(x_train_rgb,y_train,1)\n",
    "\n",
    "print(w_automobile)\n",
    "print(w0_automobile)"
   ]
  },
  {
   "cell_type": "code",
   "execution_count": null,
   "metadata": {},
   "outputs": [],
   "source": [
    "w_frog,w0_frog=fisher(x_train_rgb,y_train,2)\n",
    "print(w_frog)\n",
    "print(w0_frog)"
   ]
  },
  {
   "cell_type": "code",
   "execution_count": null,
   "metadata": {},
   "outputs": [],
   "source": [
    "predicted = correctness(x_test_rgb)"
   ]
  },
  {
   "cell_type": "code",
   "execution_count": null,
   "metadata": {},
   "outputs": [],
   "source": [
    "confusion_matrix = compute_confusion_matrix(y_test,predicted)"
   ]
  },
  {
   "cell_type": "code",
   "execution_count": null,
   "metadata": {},
   "outputs": [],
   "source": [
    "confusion_matrix"
   ]
  },
  {
   "cell_type": "markdown",
   "metadata": {},
   "source": [
    "## Confusion Matrix (Don't Edit)"
   ]
  },
  {
   "cell_type": "code",
   "execution_count": null,
   "metadata": {},
   "outputs": [],
   "source": [
    "# Make sure the previous cell returns a variable called confusion_matrix\n",
    "# Plot Confusion Matrix\n",
    "accuracy = np.diag(confusion_matrix).sum()/X_test.shape[0]\n",
    "plt.rc('figure', figsize=[5,5])\n",
    "plt.matshow(confusion_matrix,cmap=\"Blues\")\n",
    "plt.title('FLD+RGB = {0:0.3f}'.format(accuracy))\n",
    "for i in range(0,confusion_matrix.shape[0]):\n",
    "    for j in range(0,confusion_matrix.shape[1]):\n",
    "        plt.annotate(confusion_matrix[i,j],(j,i))"
   ]
  },
  {
   "cell_type": "markdown",
   "metadata": {},
   "source": [
    "### Repeat for Grayscale"
   ]
  },
  {
   "cell_type": "code",
   "execution_count": null,
   "metadata": {},
   "outputs": [],
   "source": [
    "# Write code here\n",
    "# Train\n",
    "# Test\n",
    "# confusion_matrix = "
   ]
  },
  {
   "cell_type": "code",
   "execution_count": null,
   "metadata": {},
   "outputs": [],
   "source": [
    "w_airplane,w0_airplane=fisher(x_train_grayScale,y_train,0)\n",
    "w_automobile,w0_automobile=fisher(x_train_grayScale,y_train,1)\n",
    "w_frog,w0_frog=fisher(x_train_grayScale,y_train,2)\n"
   ]
  },
  {
   "cell_type": "code",
   "execution_count": null,
   "metadata": {},
   "outputs": [],
   "source": [
    "predicted = correctness(x_test_grayScale)"
   ]
  },
  {
   "cell_type": "code",
   "execution_count": null,
   "metadata": {},
   "outputs": [],
   "source": [
    "confusion_matrix = compute_confusion_matrix(y_test,predicted)"
   ]
  },
  {
   "cell_type": "markdown",
   "metadata": {},
   "source": [
    "## Confusion Matrix (Don't Edit)"
   ]
  },
  {
   "cell_type": "code",
   "execution_count": null,
   "metadata": {},
   "outputs": [],
   "source": [
    "# Make sure the previous cell returns a variable called confusion_matrix\n",
    "# Plot Confusion Matrix\n",
    "accuracy = np.diag(confusion_matrix).sum()/X_test.shape[0]\n",
    "plt.rc('figure', figsize=[5,5])\n",
    "plt.matshow(confusion_matrix,cmap=\"Blues\")\n",
    "plt.title('FLD+GRAY = {0:0.3f}'.format(accuracy))\n",
    "for i in range(0,confusion_matrix.shape[0]):\n",
    "    for j in range(0,confusion_matrix.shape[1]):\n",
    "        plt.annotate(confusion_matrix[i,j],(j,i))"
   ]
  },
  {
   "cell_type": "markdown",
   "metadata": {},
   "source": [
    "<hr style=\"border:2px solid black\"> </hr>\n",
    "\n",
    "## Comment on the change of accuracy between RGB and Grayscale\n",
    "##########\n",
    "\n",
    "The accuracy of the rgb is higher than that of grayscale, due to taking more dimensions in account. RGB contain more info about the picture so it gives a better estimate when trained. \n",
    "\n",
    "Note: slightly different accuracies were observed when the code runs on local vs colab, due to differences in precision in both engines\n",
    "\n",
    "##########\n",
    "<hr style=\"border:2px solid black\"> </hr>"
   ]
  }
 ],
 "metadata": {
  "interpreter": {
   "hash": "31f2aee4e71d21fbe5cf8b01ff0e069b9275f58929596ceb00d14d90e3e16cd6"
  },
  "kernelspec": {
   "display_name": "Python 3",
   "language": "python",
   "name": "python3"
  },
  "language_info": {
   "codemirror_mode": {
    "name": "ipython",
    "version": 3
   },
   "file_extension": ".py",
   "mimetype": "text/x-python",
   "name": "python",
   "nbconvert_exporter": "python",
   "pygments_lexer": "ipython3",
   "version": "3.8.8"
  }
 },
 "nbformat": 4,
 "nbformat_minor": 4
}
